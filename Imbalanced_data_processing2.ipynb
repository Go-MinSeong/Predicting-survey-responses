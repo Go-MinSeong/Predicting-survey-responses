{
 "cells": [
  {
   "cell_type": "code",
   "execution_count": 3,
   "id": "7182b524",
   "metadata": {},
   "outputs": [
    {
     "name": "stdout",
     "output_type": "stream",
     "text": [
      "Requirement already satisfied: imbalanced-learn in c:\\users\\user\\anaconda3\\envs\\notebook\\lib\\site-packages (0.8.1)\n",
      "Requirement already satisfied: numpy>=1.13.3 in c:\\users\\user\\anaconda3\\envs\\notebook\\lib\\site-packages (from imbalanced-learn) (1.21.2)\n",
      "Requirement already satisfied: joblib>=0.11 in c:\\users\\user\\anaconda3\\envs\\notebook\\lib\\site-packages (from imbalanced-learn) (1.0.1)\n",
      "Requirement already satisfied: scipy>=0.19.1 in c:\\users\\user\\anaconda3\\envs\\notebook\\lib\\site-packages (from imbalanced-learn) (1.7.1)\n",
      "Requirement already satisfied: scikit-learn>=0.24 in c:\\users\\user\\anaconda3\\envs\\notebook\\lib\\site-packages (from imbalanced-learn) (0.24.2)\n",
      "Requirement already satisfied: threadpoolctl>=2.0.0 in c:\\users\\user\\anaconda3\\envs\\notebook\\lib\\site-packages (from scikit-learn>=0.24->imbalanced-learn) (2.2.0)\n"
     ]
    }
   ],
   "source": [
    "from sklearn.datasets import make_classification\n",
    "from sklearn.model_selection import train_test_split\n",
    "import numpy as np\n",
    "!pip install -U imbalanced-learn\n",
    "import pandas as pd\n",
    "from sklearn.model_selection import cross_val_score\n",
    "from sklearn.metrics import accuracy_score\n",
    "from sklearn.metrics import roc_auc_score\n",
    "from sklearn.metrics import f1_score\n",
    "from sklearn.datasets import load_digits\n",
    "from sklearn.metrics import precision_score\n",
    "from sklearn.metrics import recall_score"
   ]
  },
  {
   "cell_type": "markdown",
   "id": "48d64a4a",
   "metadata": {},
   "source": [
    "## 데이터 처리"
   ]
  },
  {
   "cell_type": "code",
   "execution_count": 4,
   "id": "2e782185",
   "metadata": {},
   "outputs": [
    {
     "data": {
      "text/plain": [
       "(368871, 30)"
      ]
     },
     "execution_count": 4,
     "metadata": {},
     "output_type": "execute_result"
    }
   ],
   "source": [
    "data=pd.read_csv(r\"WSDM_train_full_features.csv\")\n",
    "data=data.sample(frac=0.05, random_state=0)\n",
    "data.shape"
   ]
  },
  {
   "cell_type": "code",
   "execution_count": 5,
   "id": "27df6fb8",
   "metadata": {},
   "outputs": [
    {
     "data": {
      "text/html": [
       "<div>\n",
       "<style scoped>\n",
       "    .dataframe tbody tr th:only-of-type {\n",
       "        vertical-align: middle;\n",
       "    }\n",
       "\n",
       "    .dataframe tbody tr th {\n",
       "        vertical-align: top;\n",
       "    }\n",
       "\n",
       "    .dataframe thead th {\n",
       "        text-align: right;\n",
       "    }\n",
       "</style>\n",
       "<table border=\"1\" class=\"dataframe\">\n",
       "  <thead>\n",
       "    <tr style=\"text-align: right;\">\n",
       "      <th></th>\n",
       "      <th>target</th>\n",
       "      <th>user_idx</th>\n",
       "      <th>song_idx</th>\n",
       "      <th>ssn_idx</th>\n",
       "      <th>sst_idx</th>\n",
       "      <th>st_idx</th>\n",
       "      <th>song_length</th>\n",
       "      <th>genr_idx</th>\n",
       "      <th>art_idx</th>\n",
       "      <th>com_idx</th>\n",
       "      <th>...</th>\n",
       "      <th>lyricists_count</th>\n",
       "      <th>composer_count</th>\n",
       "      <th>is_featured</th>\n",
       "      <th>artist_count</th>\n",
       "      <th>artist_composer</th>\n",
       "      <th>artist_composer_lyricist</th>\n",
       "      <th>song_lang_boolean</th>\n",
       "      <th>smaller_song</th>\n",
       "      <th>count_song_played</th>\n",
       "      <th>count_artist_played</th>\n",
       "    </tr>\n",
       "  </thead>\n",
       "  <tbody>\n",
       "    <tr>\n",
       "      <th>4536199</th>\n",
       "      <td>1</td>\n",
       "      <td>9481</td>\n",
       "      <td>8945</td>\n",
       "      <td>1</td>\n",
       "      <td>1</td>\n",
       "      <td>2</td>\n",
       "      <td>233116</td>\n",
       "      <td>0</td>\n",
       "      <td>146</td>\n",
       "      <td>2</td>\n",
       "      <td>...</td>\n",
       "      <td>0</td>\n",
       "      <td>1</td>\n",
       "      <td>0</td>\n",
       "      <td>0</td>\n",
       "      <td>0</td>\n",
       "      <td>0</td>\n",
       "      <td>0</td>\n",
       "      <td>1</td>\n",
       "      <td>202</td>\n",
       "      <td>2771</td>\n",
       "    </tr>\n",
       "    <tr>\n",
       "      <th>2588100</th>\n",
       "      <td>0</td>\n",
       "      <td>15666</td>\n",
       "      <td>20</td>\n",
       "      <td>8</td>\n",
       "      <td>3</td>\n",
       "      <td>0</td>\n",
       "      <td>189846</td>\n",
       "      <td>4</td>\n",
       "      <td>3339</td>\n",
       "      <td>8365</td>\n",
       "      <td>...</td>\n",
       "      <td>0</td>\n",
       "      <td>1</td>\n",
       "      <td>0</td>\n",
       "      <td>0</td>\n",
       "      <td>0</td>\n",
       "      <td>0</td>\n",
       "      <td>0</td>\n",
       "      <td>1</td>\n",
       "      <td>3496</td>\n",
       "      <td>6250</td>\n",
       "    </tr>\n",
       "    <tr>\n",
       "      <th>1650329</th>\n",
       "      <td>1</td>\n",
       "      <td>9919</td>\n",
       "      <td>7269</td>\n",
       "      <td>5</td>\n",
       "      <td>1</td>\n",
       "      <td>4</td>\n",
       "      <td>287137</td>\n",
       "      <td>0</td>\n",
       "      <td>166</td>\n",
       "      <td>12577</td>\n",
       "      <td>...</td>\n",
       "      <td>0</td>\n",
       "      <td>1</td>\n",
       "      <td>0</td>\n",
       "      <td>0</td>\n",
       "      <td>0</td>\n",
       "      <td>0</td>\n",
       "      <td>0</td>\n",
       "      <td>0</td>\n",
       "      <td>133</td>\n",
       "      <td>33035</td>\n",
       "    </tr>\n",
       "    <tr>\n",
       "      <th>2732406</th>\n",
       "      <td>0</td>\n",
       "      <td>19109</td>\n",
       "      <td>118170</td>\n",
       "      <td>5</td>\n",
       "      <td>3</td>\n",
       "      <td>4</td>\n",
       "      <td>192783</td>\n",
       "      <td>25</td>\n",
       "      <td>278</td>\n",
       "      <td>188</td>\n",
       "      <td>...</td>\n",
       "      <td>0</td>\n",
       "      <td>1</td>\n",
       "      <td>0</td>\n",
       "      <td>0</td>\n",
       "      <td>1</td>\n",
       "      <td>0</td>\n",
       "      <td>0</td>\n",
       "      <td>1</td>\n",
       "      <td>7</td>\n",
       "      <td>540</td>\n",
       "    </tr>\n",
       "    <tr>\n",
       "      <th>613088</th>\n",
       "      <td>1</td>\n",
       "      <td>818</td>\n",
       "      <td>6790</td>\n",
       "      <td>1</td>\n",
       "      <td>1</td>\n",
       "      <td>1</td>\n",
       "      <td>221309</td>\n",
       "      <td>1</td>\n",
       "      <td>11967</td>\n",
       "      <td>2</td>\n",
       "      <td>...</td>\n",
       "      <td>0</td>\n",
       "      <td>1</td>\n",
       "      <td>0</td>\n",
       "      <td>0</td>\n",
       "      <td>0</td>\n",
       "      <td>0</td>\n",
       "      <td>0</td>\n",
       "      <td>1</td>\n",
       "      <td>11</td>\n",
       "      <td>26</td>\n",
       "    </tr>\n",
       "  </tbody>\n",
       "</table>\n",
       "<p>5 rows × 30 columns</p>\n",
       "</div>"
      ],
      "text/plain": [
       "         target  user_idx  song_idx  ssn_idx  sst_idx  st_idx  song_length  \\\n",
       "4536199       1      9481      8945        1        1       2       233116   \n",
       "2588100       0     15666        20        8        3       0       189846   \n",
       "1650329       1      9919      7269        5        1       4       287137   \n",
       "2732406       0     19109    118170        5        3       4       192783   \n",
       "613088        1       818      6790        1        1       1       221309   \n",
       "\n",
       "         genr_idx  art_idx  com_idx  ...  lyricists_count  composer_count  \\\n",
       "4536199         0      146        2  ...                0               1   \n",
       "2588100         4     3339     8365  ...                0               1   \n",
       "1650329         0      166    12577  ...                0               1   \n",
       "2732406        25      278      188  ...                0               1   \n",
       "613088          1    11967        2  ...                0               1   \n",
       "\n",
       "         is_featured  artist_count  artist_composer  artist_composer_lyricist  \\\n",
       "4536199            0             0                0                         0   \n",
       "2588100            0             0                0                         0   \n",
       "1650329            0             0                0                         0   \n",
       "2732406            0             0                1                         0   \n",
       "613088             0             0                0                         0   \n",
       "\n",
       "         song_lang_boolean  smaller_song  count_song_played  \\\n",
       "4536199                  0             1                202   \n",
       "2588100                  0             1               3496   \n",
       "1650329                  0             0                133   \n",
       "2732406                  0             1                  7   \n",
       "613088                   0             1                 11   \n",
       "\n",
       "         count_artist_played  \n",
       "4536199                 2771  \n",
       "2588100                 6250  \n",
       "1650329                33035  \n",
       "2732406                  540  \n",
       "613088                    26  \n",
       "\n",
       "[5 rows x 30 columns]"
      ]
     },
     "execution_count": 5,
     "metadata": {},
     "output_type": "execute_result"
    }
   ],
   "source": [
    "data.head()"
   ]
  },
  {
   "cell_type": "code",
   "execution_count": 6,
   "id": "055787a9",
   "metadata": {},
   "outputs": [],
   "source": [
    "data_x=data.iloc[:,1:];    data_y=data.iloc[:,0]"
   ]
  },
  {
   "cell_type": "code",
   "execution_count": 7,
   "id": "25b951f8",
   "metadata": {},
   "outputs": [],
   "source": [
    "len_0=len(data.query(\"target==0\"))\n",
    "len_1=len(data.query(\"target==1\"))\n",
    "imbalacned_list_p={0.001:999,0.01:99,0.1:9}\n",
    "\n",
    "def making_imbalanced(x):\n",
    "    i=imbalacned_list_p[x]\n",
    "    len_2=round((len_0/i*(i+1))-len_0)\n",
    "    data_target1=data.query(\"target==1\").sample(n=len_2,random_state=42)\n",
    "    data_final=pd.concat([data.query(\"target==0\"),data_target1])\n",
    "    print(len(data_target1)/len(data_final))\n",
    "    return data_final"
   ]
  },
  {
   "cell_type": "code",
   "execution_count": 8,
   "id": "d525cd27",
   "metadata": {},
   "outputs": [
    {
     "name": "stdout",
     "output_type": "stream",
     "text": [
      "0.10000196631698996\n",
      "0.009998269634243937\n",
      "0.0009985485578339682\n"
     ]
    }
   ],
   "source": [
    "data_1=making_imbalanced(0.1)\n",
    "data_x1=data_1.iloc[:,1:];    data_y1=data_1.iloc[:,0]\n",
    "data_01=making_imbalanced(0.01)\n",
    "data_x01=data_01.iloc[:,1:];    data_y01=data_01.iloc[:,0]\n",
    "data_001=making_imbalanced(0.001)\n",
    "data_x001=data_001.iloc[:,1:];    data_y001=data_001.iloc[:,0]\n"
   ]
  },
  {
   "cell_type": "code",
   "execution_count": 9,
   "id": "eb14e3df",
   "metadata": {},
   "outputs": [],
   "source": [
    "score_list=[]\n",
    "def imbalanced_process(x,x_1,y,y_1,z):\n",
    "    if z!=0:\n",
    "        X1, y1 = z.fit_resample(x, y)\n",
    "    else: X1,y1=x,y\n",
    "    RF=RandomForestClassifier(random_state=0)\n",
    "    RF.fit(X1, y1)\n",
    "    y1_pred=RF.predict(x_1)\n",
    "    y2_pred=RF.predict_proba(x_1)[:,1]\n",
    "    print(f'accuracy_score : {round(accuracy_score(y_1, y1_pred),5)}, roc_auc_score : {round(roc_auc_score(y_1, y2_pred),5)}, f1_score : {round(f1_score(y_1, y1_pred),5)}, precision_score : {round(precision_score(y_1, y1_pred),5)}, recall_score : {round(recall_score(y_1, y1_pred),5)}')\n",
    "    score_list.append([round(accuracy_score(y_1, y1_pred),5),round(roc_auc_score(y_1, y2_pred),5),round(f1_score(y_1, y1_pred),5),round(precision_score(y_1, y1_pred),5),round(recall_score(y_1, y1_pred),5)])"
   ]
  },
  {
   "cell_type": "markdown",
   "id": "d5dd49ea",
   "metadata": {},
   "source": [
    "## 999:1 imbalanced"
   ]
  },
  {
   "cell_type": "code",
   "execution_count": 10,
   "id": "756dc3cc",
   "metadata": {},
   "outputs": [
    {
     "data": {
      "text/plain": [
       "((137449, 29), (45817, 29))"
      ]
     },
     "execution_count": 10,
     "metadata": {},
     "output_type": "execute_result"
    }
   ],
   "source": [
    "# 학습/평가 데이터 분할\n",
    "X001_train, X001_test, y001_train, y001_test = train_test_split(data_x001, data_y001, random_state=0)\n",
    "X001_train.shape, X001_test.shape"
   ]
  },
  {
   "cell_type": "markdown",
   "id": "628920de",
   "metadata": {},
   "source": [
    "### original"
   ]
  },
  {
   "cell_type": "code",
   "execution_count": 97,
   "id": "3a94829a",
   "metadata": {},
   "outputs": [
    {
     "name": "stdout",
     "output_type": "stream",
     "text": [
      "accuracy_score : 0.99895, roc_auc_score : 0.52608, f1_score : 0.0, precision_score : 0.0, recall_score : 0.0\n"
     ]
    },
    {
     "name": "stderr",
     "output_type": "stream",
     "text": [
      "/Users/jody/opt/anaconda3/lib/python3.8/site-packages/sklearn/metrics/_classification.py:1245: UndefinedMetricWarning: Precision is ill-defined and being set to 0.0 due to no predicted samples. Use `zero_division` parameter to control this behavior.\n",
      "  _warn_prf(average, modifier, msg_start, len(result))\n",
      "/Users/jody/opt/anaconda3/lib/python3.8/site-packages/sklearn/metrics/_classification.py:1245: UndefinedMetricWarning: Precision is ill-defined and being set to 0.0 due to no predicted samples. Use `zero_division` parameter to control this behavior.\n",
      "  _warn_prf(average, modifier, msg_start, len(result))\n"
     ]
    }
   ],
   "source": [
    "from sklearn.ensemble import RandomForestClassifier\n",
    "# 원래 데이터를 사용했을 때의 모델성능\n",
    "imbalanced_process(X001_train, X001_test, y001_train, y001_test,0)"
   ]
  },
  {
   "cell_type": "markdown",
   "id": "cbe5905d",
   "metadata": {},
   "source": [
    "### Under_Sampling"
   ]
  },
  {
   "cell_type": "markdown",
   "id": "12cae80e",
   "metadata": {},
   "source": [
    "- Ramdom Under-Sampler"
   ]
  },
  {
   "cell_type": "code",
   "execution_count": 98,
   "id": "f8db10c6",
   "metadata": {},
   "outputs": [
    {
     "name": "stdout",
     "output_type": "stream",
     "text": [
      "accuracy_score : 0.59783, roc_auc_score : 0.55891, f1_score : 0.00249, precision_score : 0.00125, recall_score : 0.47917\n"
     ]
    }
   ],
   "source": [
    "from imblearn.under_sampling import *\n",
    "from sklearn.ensemble import RandomForestClassifier\n",
    "imbalanced_process(X001_train, X001_test, y001_train, y001_test, RandomUnderSampler(random_state=0))"
   ]
  },
  {
   "cell_type": "markdown",
   "id": "b3d06b2b",
   "metadata": {},
   "source": [
    "- NearMiss-1"
   ]
  },
  {
   "cell_type": "code",
   "execution_count": 99,
   "id": "6cd338a6",
   "metadata": {},
   "outputs": [
    {
     "name": "stdout",
     "output_type": "stream",
     "text": [
      "accuracy_score : 0.01721, roc_auc_score : 0.53044, f1_score : 0.00213, precision_score : 0.00107, recall_score : 1.0\n"
     ]
    }
   ],
   "source": [
    "from imblearn.under_sampling import *\n",
    "from sklearn.ensemble import RandomForestClassifier\n",
    "imbalanced_process(X001_train, X001_test, y001_train, y001_test, NearMiss(version=1,n_jobs=-1))"
   ]
  },
  {
   "cell_type": "markdown",
   "id": "d7243c42",
   "metadata": {},
   "source": [
    "- NearMiss-2"
   ]
  },
  {
   "cell_type": "code",
   "execution_count": 100,
   "id": "087ea5ec",
   "metadata": {},
   "outputs": [
    {
     "name": "stdout",
     "output_type": "stream",
     "text": [
      "accuracy_score : 0.01926, roc_auc_score : 0.5595, f1_score : 0.00213, precision_score : 0.00107, recall_score : 1.0\n"
     ]
    }
   ],
   "source": [
    "from imblearn.under_sampling import *\n",
    "from sklearn.ensemble import RandomForestClassifier\n",
    "imbalanced_process(X001_train, X001_test, y001_train, y001_test, NearMiss(version=2,n_jobs=-1))"
   ]
  },
  {
   "cell_type": "markdown",
   "id": "001d6b34",
   "metadata": {},
   "source": [
    "- NearMiss-3"
   ]
  },
  {
   "cell_type": "code",
   "execution_count": 101,
   "id": "67eb5f73",
   "metadata": {},
   "outputs": [
    {
     "name": "stdout",
     "output_type": "stream",
     "text": [
      "accuracy_score : 0.45236, roc_auc_score : 0.56272, f1_score : 0.00239, precision_score : 0.0012, recall_score : 0.625\n"
     ]
    }
   ],
   "source": [
    "from imblearn.under_sampling import *\n",
    "from sklearn.ensemble import RandomForestClassifier\n",
    "imbalanced_process(X001_train, X001_test, y001_train, y001_test, NearMiss(version=3,n_jobs=-1))"
   ]
  },
  {
   "cell_type": "markdown",
   "id": "2600e499",
   "metadata": {},
   "source": [
    "- Condensed Nearest Neighbour"
   ]
  },
  {
   "cell_type": "code",
   "execution_count": 136,
   "id": "1a1c277f",
   "metadata": {},
   "outputs": [
    {
     "name": "stdout",
     "output_type": "stream",
     "text": [
      "accuracy_score : 0.99871, roc_auc_score : 0.53652, f1_score : 0.0, precision_score : 0.0, recall_score : 0.0\n"
     ]
    }
   ],
   "source": [
    "from imblearn.under_sampling import *\n",
    "from sklearn.ensemble import RandomForestClassifier\n",
    "imbalanced_process(X001_train, X001_test, y001_train, y001_test, CondensedNearestNeighbour(random_state=0))"
   ]
  },
  {
   "cell_type": "markdown",
   "id": "6014b059",
   "metadata": {},
   "source": [
    "- TomekLinks"
   ]
  },
  {
   "cell_type": "code",
   "execution_count": 103,
   "id": "f6955e8c",
   "metadata": {},
   "outputs": [
    {
     "name": "stdout",
     "output_type": "stream",
     "text": [
      "accuracy_score : 0.99895, roc_auc_score : 0.5282, f1_score : 0.0, precision_score : 0.0, recall_score : 0.0\n"
     ]
    },
    {
     "name": "stderr",
     "output_type": "stream",
     "text": [
      "/Users/jody/opt/anaconda3/lib/python3.8/site-packages/sklearn/metrics/_classification.py:1245: UndefinedMetricWarning: Precision is ill-defined and being set to 0.0 due to no predicted samples. Use `zero_division` parameter to control this behavior.\n",
      "  _warn_prf(average, modifier, msg_start, len(result))\n",
      "/Users/jody/opt/anaconda3/lib/python3.8/site-packages/sklearn/metrics/_classification.py:1245: UndefinedMetricWarning: Precision is ill-defined and being set to 0.0 due to no predicted samples. Use `zero_division` parameter to control this behavior.\n",
      "  _warn_prf(average, modifier, msg_start, len(result))\n"
     ]
    }
   ],
   "source": [
    "from imblearn.under_sampling import *\n",
    "from sklearn.ensemble import RandomForestClassifier\n",
    "imbalanced_process(X001_train, X001_test, y001_train, y001_test, TomekLinks(sampling_strategy='all'))"
   ]
  },
  {
   "cell_type": "markdown",
   "id": "db90c0a1",
   "metadata": {},
   "source": [
    "- Edited Nearest Neighbours"
   ]
  },
  {
   "cell_type": "code",
   "execution_count": 104,
   "id": "a4c6c888",
   "metadata": {},
   "outputs": [
    {
     "name": "stdout",
     "output_type": "stream",
     "text": [
      "accuracy_score : 0.99893, roc_auc_score : 0.51332, f1_score : 0.0, precision_score : 0.0, recall_score : 0.0\n"
     ]
    }
   ],
   "source": [
    "from imblearn.under_sampling import *\n",
    "from sklearn.ensemble import RandomForestClassifier\n",
    "imbalanced_process(X001_train, X001_test, y001_train, y001_test, EditedNearestNeighbours(kind_sel=\"all\", n_neighbors=5))"
   ]
  },
  {
   "cell_type": "markdown",
   "id": "4f75cfe2",
   "metadata": {},
   "source": [
    "- RepeatedEditedNearestNeighbours"
   ]
  },
  {
   "cell_type": "code",
   "execution_count": 115,
   "id": "3bd723fc",
   "metadata": {},
   "outputs": [
    {
     "name": "stdout",
     "output_type": "stream",
     "text": [
      "accuracy_score : 0.99893, roc_auc_score : 0.51446, f1_score : 0.0, precision_score : 0.0, recall_score : 0.0\n"
     ]
    }
   ],
   "source": [
    "from imblearn.under_sampling import *\n",
    "from sklearn.ensemble import RandomForestClassifier\n",
    "imbalanced_process(X001_train, X001_test, y001_train, y001_test, RepeatedEditedNearestNeighbours(kind_sel=\"all\", n_neighbors=5))"
   ]
  },
  {
   "cell_type": "markdown",
   "id": "87bedb10",
   "metadata": {},
   "source": [
    "### Over_Sampling"
   ]
  },
  {
   "cell_type": "markdown",
   "id": "8d453b90",
   "metadata": {},
   "source": [
    "- RandomOverSampler"
   ]
  },
  {
   "cell_type": "code",
   "execution_count": 107,
   "id": "ab9d64ff",
   "metadata": {},
   "outputs": [
    {
     "name": "stdout",
     "output_type": "stream",
     "text": [
      "accuracy_score : 0.99891, roc_auc_score : 0.50943, f1_score : 0.0, precision_score : 0.0, recall_score : 0.0\n"
     ]
    }
   ],
   "source": [
    "from imblearn.over_sampling import *\n",
    "from sklearn.ensemble import RandomForestClassifier\n",
    "imbalanced_process(X001_train, X001_test, y001_train, y001_test, RandomOverSampler(random_state=0))"
   ]
  },
  {
   "cell_type": "markdown",
   "id": "7f95938f",
   "metadata": {},
   "source": [
    "- SMOTE"
   ]
  },
  {
   "cell_type": "code",
   "execution_count": 108,
   "id": "2b861e34",
   "metadata": {},
   "outputs": [
    {
     "name": "stdout",
     "output_type": "stream",
     "text": [
      "accuracy_score : 0.99882, roc_auc_score : 0.51792, f1_score : 0.0, precision_score : 0.0, recall_score : 0.0\n"
     ]
    }
   ],
   "source": [
    "from imblearn.over_sampling import *\n",
    "from sklearn.ensemble import RandomForestClassifier\n",
    "imbalanced_process(X001_train, X001_test, y001_train, y001_test,SMOTE(random_state=0,k_neighbors=5))"
   ]
  },
  {
   "cell_type": "markdown",
   "id": "4467b662",
   "metadata": {},
   "source": [
    "- BorderlineSMOTE-1"
   ]
  },
  {
   "cell_type": "code",
   "execution_count": 109,
   "id": "037d11ea",
   "metadata": {},
   "outputs": [
    {
     "name": "stdout",
     "output_type": "stream",
     "text": [
      "accuracy_score : 0.99893, roc_auc_score : 0.49569, f1_score : 0.0, precision_score : 0.0, recall_score : 0.0\n"
     ]
    }
   ],
   "source": [
    "from imblearn.over_sampling import *\n",
    "from sklearn.ensemble import RandomForestClassifier\n",
    "imbalanced_process(X001_train, X001_test, y001_train, y001_test,BorderlineSMOTE(kind = 'borderline-1',random_state=0))"
   ]
  },
  {
   "cell_type": "markdown",
   "id": "350b2076",
   "metadata": {},
   "source": [
    "- BorderlineSMOTE-2"
   ]
  },
  {
   "cell_type": "code",
   "execution_count": 110,
   "id": "4457e2f0",
   "metadata": {},
   "outputs": [
    {
     "name": "stdout",
     "output_type": "stream",
     "text": [
      "accuracy_score : 0.99893, roc_auc_score : 0.50487, f1_score : 0.0, precision_score : 0.0, recall_score : 0.0\n"
     ]
    }
   ],
   "source": [
    "from imblearn.over_sampling import *\n",
    "from sklearn.ensemble import RandomForestClassifier\n",
    "imbalanced_process(X001_train, X001_test, y001_train, y001_test,BorderlineSMOTE(kind = 'borderline-2',random_state=0))"
   ]
  },
  {
   "cell_type": "markdown",
   "id": "3e317eaf",
   "metadata": {},
   "source": [
    "### Combine"
   ]
  },
  {
   "cell_type": "markdown",
   "id": "c9985925",
   "metadata": {},
   "source": [
    "- SMOTETomek"
   ]
  },
  {
   "cell_type": "code",
   "execution_count": 111,
   "id": "a92cc909",
   "metadata": {},
   "outputs": [
    {
     "name": "stdout",
     "output_type": "stream",
     "text": [
      "accuracy_score : 0.99882, roc_auc_score : 0.51792, f1_score : 0.0, precision_score : 0.0, recall_score : 0.0\n"
     ]
    }
   ],
   "source": [
    "from imblearn.combine import *\n",
    "from sklearn.ensemble import RandomForestClassifier\n",
    "imbalanced_process(X001_train, X001_test, y001_train, y001_test,SMOTETomek(random_state=0, sampling_strategy='all'))"
   ]
  },
  {
   "cell_type": "markdown",
   "id": "269a4f8d",
   "metadata": {},
   "source": [
    "- SMOTE+ENN"
   ]
  },
  {
   "cell_type": "code",
   "execution_count": 112,
   "id": "0ce9de41",
   "metadata": {},
   "outputs": [
    {
     "name": "stdout",
     "output_type": "stream",
     "text": [
      "accuracy_score : 0.99882, roc_auc_score : 0.52802, f1_score : 0.0, precision_score : 0.0, recall_score : 0.0\n"
     ]
    }
   ],
   "source": [
    "from imblearn.combine import *\n",
    "from sklearn.ensemble import RandomForestClassifier\n",
    "imbalanced_process(X001_train, X001_test, y001_train, y001_test,SMOTEENN(random_state=0))"
   ]
  },
  {
   "cell_type": "markdown",
   "id": "bca244fb",
   "metadata": {},
   "source": [
    "### Ensemble"
   ]
  },
  {
   "cell_type": "markdown",
   "id": "f22cc8ea",
   "metadata": {},
   "source": [
    "- BalanceCascade"
   ]
  },
  {
   "cell_type": "code",
   "execution_count": 113,
   "id": "6276760f",
   "metadata": {},
   "outputs": [
    {
     "name": "stdout",
     "output_type": "stream",
     "text": [
      "accuracy_score : 0.62356, roc_auc_score : 0.58664, f1_score : 0.00255, precision_score : 0.00128, recall_score : 0.45833\n"
     ]
    }
   ],
   "source": [
    "from imblearn.ensemble import BalancedRandomForestClassifier\n",
    "brf = BalancedRandomForestClassifier(n_estimators=100, random_state=0)\n",
    "brf.fit(X001_train, y001_train) \n",
    "y1_pred = brf.predict(X001_test)\n",
    "y2_pred = brf.predict_proba(X001_test)[:,1]\n",
    "print(f'accuracy_score : {round(accuracy_score(y001_test, y1_pred),5)}, roc_auc_score : {round(roc_auc_score(y001_test, y2_pred),5)}, f1_score : {round(f1_score(y001_test, y1_pred),5)}, precision_score : {round(precision_score(y001_test, y1_pred),5)}, recall_score : {round(recall_score(y001_test, y1_pred),5)}')"
   ]
  },
  {
   "cell_type": "markdown",
   "id": "2d9a69e2",
   "metadata": {},
   "source": [
    "- EasyEnsemble"
   ]
  },
  {
   "cell_type": "code",
   "execution_count": 116,
   "id": "0b569057",
   "metadata": {},
   "outputs": [
    {
     "name": "stdout",
     "output_type": "stream",
     "text": [
      "accuracy_score : 0.57082, roc_auc_score : 0.64453, f1_score : 0.00315, precision_score : 0.00158, recall_score : 0.64583\n"
     ]
    }
   ],
   "source": [
    "from imblearn.ensemble import BalancedRandomForestClassifier\n",
    "eec=EasyEnsembleClassifier(random_state=0)\n",
    "eec.fit(X001_train, y001_train) \n",
    "y1_pred = eec.predict(X001_test)\n",
    "y2_pred = eec.predict_proba(X001_test)[:,1]\n",
    "print(f'accuracy_score : {round(accuracy_score(y001_test, y1_pred),5)}, roc_auc_score : {round(roc_auc_score(y001_test, y2_pred),5)}, f1_score : {round(f1_score(y001_test, y1_pred),5)}, precision_score : {round(precision_score(y001_test, y1_pred),5)}, recall_score : {round(recall_score(y001_test, y1_pred),5)}')"
   ]
  }
 ],
 "metadata": {
  "kernelspec": {
   "display_name": "Python 3 (ipykernel)",
   "language": "python",
   "name": "python3"
  },
  "language_info": {
   "codemirror_mode": {
    "name": "ipython",
    "version": 3
   },
   "file_extension": ".py",
   "mimetype": "text/x-python",
   "name": "python",
   "nbconvert_exporter": "python",
   "pygments_lexer": "ipython3",
   "version": "3.10.11"
  }
 },
 "nbformat": 4,
 "nbformat_minor": 5
}
