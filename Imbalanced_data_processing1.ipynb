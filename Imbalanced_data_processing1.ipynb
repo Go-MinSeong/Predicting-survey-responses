{
 "cells": [
  {
   "cell_type": "markdown",
   "id": "cc62371e",
   "metadata": {},
   "source": [
    "Kaggle Competition으로 2017년말에 개최되었던 \"WSDM - KKBox's Music Recommendation Challenge\" 데이터\n",
    "\n",
    "- class 변수인 'target' 필드에서 1의 값이 전체 데이터의 0.1%, 1%, 10%가 되도록 축소하여 3가지의 data imbalance 상황을 만든다.\n",
    "\n",
    "- 평가척도로는 Accuracy, ROC-AUC, Recall, Precision, F1-score 등 5가지를 사용하고, \"Survey of resampling techniques for improving classification performance in unbalanced datasets\" 논문(첨부화일)에서 테스트한 기법 중 imbalanced-learn 패키지에서 지원하는 것은 모두 테스트한다."
   ]
  },
  {
   "cell_type": "code",
   "execution_count": 58,
   "id": "0dcbf356",
   "metadata": {
    "colab": {
     "base_uri": "https://localhost:8080/"
    },
    "id": "ed6ac1fb",
    "outputId": "741d83e6-1027-4a8c-f07e-bf37dd38fd7d"
   },
   "outputs": [
    {
     "name": "stdout",
     "output_type": "stream",
     "text": [
      "Requirement already satisfied: imbalanced-learn in c:\\users\\user\\anaconda3\\envs\\notebook\\lib\\site-packages (0.8.1)\n",
      "Requirement already satisfied: scikit-learn>=0.24 in c:\\users\\user\\anaconda3\\envs\\notebook\\lib\\site-packages (from imbalanced-learn) (0.24.2)\n",
      "Requirement already satisfied: numpy>=1.13.3 in c:\\users\\user\\anaconda3\\envs\\notebook\\lib\\site-packages (from imbalanced-learn) (1.21.2)\n",
      "Requirement already satisfied: scipy>=0.19.1 in c:\\users\\user\\anaconda3\\envs\\notebook\\lib\\site-packages (from imbalanced-learn) (1.7.1)\n",
      "Requirement already satisfied: joblib>=0.11 in c:\\users\\user\\anaconda3\\envs\\notebook\\lib\\site-packages (from imbalanced-learn) (1.0.1)\n",
      "Requirement already satisfied: threadpoolctl>=2.0.0 in c:\\users\\user\\anaconda3\\envs\\notebook\\lib\\site-packages (from scikit-learn>=0.24->imbalanced-learn) (2.2.0)\n"
     ]
    }
   ],
   "source": [
    "from sklearn.datasets import make_classification\n",
    "from sklearn.model_selection import train_test_split\n",
    "import numpy as np\n",
    "!pip install -U imbalanced-learn\n",
    "import pandas as pd\n",
    "from sklearn.model_selection import cross_val_score\n",
    "from sklearn.metrics import accuracy_score\n",
    "from sklearn.metrics import roc_auc_score\n",
    "from sklearn.metrics import f1_score\n",
    "from sklearn.datasets import load_digits\n",
    "from sklearn.metrics import precision_score\n",
    "from sklearn.metrics import recall_score"
   ]
  },
  {
   "cell_type": "markdown",
   "id": "3169f63c",
   "metadata": {
    "id": "4737f1db"
   },
   "source": [
    "## 데이터 처리"
   ]
  },
  {
   "cell_type": "code",
   "execution_count": 59,
   "id": "c2554073",
   "metadata": {
    "colab": {
     "base_uri": "https://localhost:8080/",
     "height": 0
    },
    "id": "b4699600",
    "outputId": "e798e965-1014-4f9a-e72b-3ef8ccddaa59"
   },
   "outputs": [
    {
     "data": {
      "text/plain": [
       "(368871, 30)"
      ]
     },
     "execution_count": 59,
     "metadata": {},
     "output_type": "execute_result"
    }
   ],
   "source": [
    "data = pd.read_csv(r'WSDM_train_full_features.csv',encoding='euc-kr')\n",
    "data=data.sample(frac=0.05,random_state=0)\n",
    "data.shape"
   ]
  },
  {
   "cell_type": "code",
   "execution_count": 60,
   "id": "4e926e4a",
   "metadata": {},
   "outputs": [
    {
     "data": {
      "text/html": [
       "<div>\n",
       "<style scoped>\n",
       "    .dataframe tbody tr th:only-of-type {\n",
       "        vertical-align: middle;\n",
       "    }\n",
       "\n",
       "    .dataframe tbody tr th {\n",
       "        vertical-align: top;\n",
       "    }\n",
       "\n",
       "    .dataframe thead th {\n",
       "        text-align: right;\n",
       "    }\n",
       "</style>\n",
       "<table border=\"1\" class=\"dataframe\">\n",
       "  <thead>\n",
       "    <tr style=\"text-align: right;\">\n",
       "      <th></th>\n",
       "      <th>target</th>\n",
       "      <th>user_idx</th>\n",
       "      <th>song_idx</th>\n",
       "      <th>ssn_idx</th>\n",
       "      <th>sst_idx</th>\n",
       "      <th>st_idx</th>\n",
       "      <th>song_length</th>\n",
       "      <th>genr_idx</th>\n",
       "      <th>art_idx</th>\n",
       "      <th>com_idx</th>\n",
       "      <th>...</th>\n",
       "      <th>lyricists_count</th>\n",
       "      <th>composer_count</th>\n",
       "      <th>is_featured</th>\n",
       "      <th>artist_count</th>\n",
       "      <th>artist_composer</th>\n",
       "      <th>artist_composer_lyricist</th>\n",
       "      <th>song_lang_boolean</th>\n",
       "      <th>smaller_song</th>\n",
       "      <th>count_song_played</th>\n",
       "      <th>count_artist_played</th>\n",
       "    </tr>\n",
       "  </thead>\n",
       "  <tbody>\n",
       "    <tr>\n",
       "      <th>4536199</th>\n",
       "      <td>1</td>\n",
       "      <td>9481</td>\n",
       "      <td>8945</td>\n",
       "      <td>1</td>\n",
       "      <td>1</td>\n",
       "      <td>2</td>\n",
       "      <td>233116</td>\n",
       "      <td>0</td>\n",
       "      <td>146</td>\n",
       "      <td>2</td>\n",
       "      <td>...</td>\n",
       "      <td>0</td>\n",
       "      <td>1</td>\n",
       "      <td>0</td>\n",
       "      <td>0</td>\n",
       "      <td>0</td>\n",
       "      <td>0</td>\n",
       "      <td>0</td>\n",
       "      <td>1</td>\n",
       "      <td>202</td>\n",
       "      <td>2771</td>\n",
       "    </tr>\n",
       "    <tr>\n",
       "      <th>2588100</th>\n",
       "      <td>0</td>\n",
       "      <td>15666</td>\n",
       "      <td>20</td>\n",
       "      <td>8</td>\n",
       "      <td>3</td>\n",
       "      <td>0</td>\n",
       "      <td>189846</td>\n",
       "      <td>4</td>\n",
       "      <td>3339</td>\n",
       "      <td>8365</td>\n",
       "      <td>...</td>\n",
       "      <td>0</td>\n",
       "      <td>1</td>\n",
       "      <td>0</td>\n",
       "      <td>0</td>\n",
       "      <td>0</td>\n",
       "      <td>0</td>\n",
       "      <td>0</td>\n",
       "      <td>1</td>\n",
       "      <td>3496</td>\n",
       "      <td>6250</td>\n",
       "    </tr>\n",
       "    <tr>\n",
       "      <th>1650329</th>\n",
       "      <td>1</td>\n",
       "      <td>9919</td>\n",
       "      <td>7269</td>\n",
       "      <td>5</td>\n",
       "      <td>1</td>\n",
       "      <td>4</td>\n",
       "      <td>287137</td>\n",
       "      <td>0</td>\n",
       "      <td>166</td>\n",
       "      <td>12577</td>\n",
       "      <td>...</td>\n",
       "      <td>0</td>\n",
       "      <td>1</td>\n",
       "      <td>0</td>\n",
       "      <td>0</td>\n",
       "      <td>0</td>\n",
       "      <td>0</td>\n",
       "      <td>0</td>\n",
       "      <td>0</td>\n",
       "      <td>133</td>\n",
       "      <td>33035</td>\n",
       "    </tr>\n",
       "    <tr>\n",
       "      <th>2732406</th>\n",
       "      <td>0</td>\n",
       "      <td>19109</td>\n",
       "      <td>118170</td>\n",
       "      <td>5</td>\n",
       "      <td>3</td>\n",
       "      <td>4</td>\n",
       "      <td>192783</td>\n",
       "      <td>25</td>\n",
       "      <td>278</td>\n",
       "      <td>188</td>\n",
       "      <td>...</td>\n",
       "      <td>0</td>\n",
       "      <td>1</td>\n",
       "      <td>0</td>\n",
       "      <td>0</td>\n",
       "      <td>1</td>\n",
       "      <td>0</td>\n",
       "      <td>0</td>\n",
       "      <td>1</td>\n",
       "      <td>7</td>\n",
       "      <td>540</td>\n",
       "    </tr>\n",
       "    <tr>\n",
       "      <th>613088</th>\n",
       "      <td>1</td>\n",
       "      <td>818</td>\n",
       "      <td>6790</td>\n",
       "      <td>1</td>\n",
       "      <td>1</td>\n",
       "      <td>1</td>\n",
       "      <td>221309</td>\n",
       "      <td>1</td>\n",
       "      <td>11967</td>\n",
       "      <td>2</td>\n",
       "      <td>...</td>\n",
       "      <td>0</td>\n",
       "      <td>1</td>\n",
       "      <td>0</td>\n",
       "      <td>0</td>\n",
       "      <td>0</td>\n",
       "      <td>0</td>\n",
       "      <td>0</td>\n",
       "      <td>1</td>\n",
       "      <td>11</td>\n",
       "      <td>26</td>\n",
       "    </tr>\n",
       "  </tbody>\n",
       "</table>\n",
       "<p>5 rows × 30 columns</p>\n",
       "</div>"
      ],
      "text/plain": [
       "         target  user_idx  song_idx  ssn_idx  sst_idx  st_idx  song_length  \\\n",
       "4536199       1      9481      8945        1        1       2       233116   \n",
       "2588100       0     15666        20        8        3       0       189846   \n",
       "1650329       1      9919      7269        5        1       4       287137   \n",
       "2732406       0     19109    118170        5        3       4       192783   \n",
       "613088        1       818      6790        1        1       1       221309   \n",
       "\n",
       "         genr_idx  art_idx  com_idx  ...  lyricists_count  composer_count  \\\n",
       "4536199         0      146        2  ...                0               1   \n",
       "2588100         4     3339     8365  ...                0               1   \n",
       "1650329         0      166    12577  ...                0               1   \n",
       "2732406        25      278      188  ...                0               1   \n",
       "613088          1    11967        2  ...                0               1   \n",
       "\n",
       "         is_featured  artist_count  artist_composer  artist_composer_lyricist  \\\n",
       "4536199            0             0                0                         0   \n",
       "2588100            0             0                0                         0   \n",
       "1650329            0             0                0                         0   \n",
       "2732406            0             0                1                         0   \n",
       "613088             0             0                0                         0   \n",
       "\n",
       "         song_lang_boolean  smaller_song  count_song_played  \\\n",
       "4536199                  0             1                202   \n",
       "2588100                  0             1               3496   \n",
       "1650329                  0             0                133   \n",
       "2732406                  0             1                  7   \n",
       "613088                   0             1                 11   \n",
       "\n",
       "         count_artist_played  \n",
       "4536199                 2771  \n",
       "2588100                 6250  \n",
       "1650329                33035  \n",
       "2732406                  540  \n",
       "613088                    26  \n",
       "\n",
       "[5 rows x 30 columns]"
      ]
     },
     "execution_count": 60,
     "metadata": {},
     "output_type": "execute_result"
    }
   ],
   "source": [
    "data.head()"
   ]
  },
  {
   "cell_type": "code",
   "execution_count": 21,
   "id": "cd17ba66",
   "metadata": {
    "id": "4a7a7cba"
   },
   "outputs": [],
   "source": [
    "data_x=data.iloc[:,1:];    data_y=data.iloc[:,0]"
   ]
  },
  {
   "cell_type": "code",
   "execution_count": 22,
   "id": "5fd2d086",
   "metadata": {
    "id": "946d199c"
   },
   "outputs": [],
   "source": [
    "len_0=len(data.query(\"target==0\"))\n",
    "len_1=len(data.query(\"target==1\"))\n",
    "imbalacned_list_p={0.001:999,0.01:99,0.1:9}\n",
    "\n",
    "def making_imbalanced(x):\n",
    "    i=imbalacned_list_p[x]\n",
    "    len_2=round((len_0/i*(i+1))-len_0)\n",
    "    data_target1=data.query(\"target==1\").sample(n=len_2,random_state=42)\n",
    "    data_final=pd.concat([data.query(\"target==0\"),data_target1])\n",
    "    print(len(data_target1)/len(data_final))\n",
    "    return data_final"
   ]
  },
  {
   "cell_type": "code",
   "execution_count": 23,
   "id": "4ba55f0d",
   "metadata": {
    "colab": {
     "base_uri": "https://localhost:8080/"
    },
    "id": "0f2ffb06",
    "outputId": "b3280bd8-57ff-4778-a5a5-546a7fb87c76"
   },
   "outputs": [
    {
     "name": "stdout",
     "output_type": "stream",
     "text": [
      "0.10000196631698996\n",
      "0.009998269634243937\n",
      "0.0009985485578339682\n"
     ]
    }
   ],
   "source": [
    "data_1=making_imbalanced(0.1) \n",
    "data_x1=data_1.iloc[:,1:];    data_y1=data_1.iloc[:,0]\n",
    "data_01=making_imbalanced(0.01)\n",
    "data_x01=data_01.iloc[:,1:];    data_y01=data_01.iloc[:,0]\n",
    "data_001=making_imbalanced(0.001)\n",
    "data_x001=data_001.iloc[:,1:];    data_y001=data_001.iloc[:,0]\n"
   ]
  },
  {
   "cell_type": "code",
   "execution_count": 24,
   "id": "40c5d436",
   "metadata": {
    "id": "f0e786fa"
   },
   "outputs": [],
   "source": [
    "score_list=[]\n",
    "def imbalanced_process(x,x_1,y,y_1,z):\n",
    "    if z!=0:\n",
    "        X1, y1 = z.fit_resample(x, y)\n",
    "    else: X1,y1=x,y\n",
    "    RF=RandomForestClassifier(random_state=0)\n",
    "    RF.fit(X1, y1)\n",
    "    y1_pred=RF.predict(x_1)\n",
    "    y2_pred=RF.predict_proba(x_1)[:,1]\n",
    "    print(f'accuracy_score : {round(accuracy_score(y_1, y1_pred),5)}, roc_auc_score : {round(roc_auc_score(y_1, y2_pred),5)}, f1_score : {round(f1_score(y_1, y1_pred),5)}, precision_score : {round(precision_score(y_1, y1_pred),5)}, recall_score : {round(recall_score(y_1, y1_pred),5)}')\n",
    "    score_list.append([round(accuracy_score(y_1, y1_pred),5),round(roc_auc_score(y_1, y2_pred),5),round(f1_score(y_1, y1_pred),5),round(precision_score(y_1, y1_pred),5),round(recall_score(y_1, y1_pred),5)])"
   ]
  },
  {
   "cell_type": "markdown",
   "id": "fc5f6fc5",
   "metadata": {
    "id": "66aa2f71"
   },
   "source": [
    "# 9:1 imbalanced"
   ]
  },
  {
   "cell_type": "code",
   "execution_count": 25,
   "id": "18c6d3fb",
   "metadata": {
    "colab": {
     "base_uri": "https://localhost:8080/"
    },
    "id": "4659d378",
    "outputId": "457cccf1-7571-455e-eea9-81aadae22e24"
   },
   "outputs": [
    {
     "data": {
      "text/plain": [
       "((152569, 29), (50857, 29))"
      ]
     },
     "execution_count": 25,
     "metadata": {},
     "output_type": "execute_result"
    }
   ],
   "source": [
    "# 학습/평가 데이터 분할\n",
    "X1_train, X1_test, y1_train, y1_test = train_test_split(data_x1, data_y1, random_state=0)\n",
    "X1_train.shape, X1_test.shape"
   ]
  },
  {
   "cell_type": "markdown",
   "id": "729c5337",
   "metadata": {
    "id": "b0c87164"
   },
   "source": [
    "### original"
   ]
  },
  {
   "cell_type": "code",
   "execution_count": null,
   "id": "f035a6ab",
   "metadata": {
    "colab": {
     "base_uri": "https://localhost:8080/"
    },
    "id": "e889770b",
    "outputId": "4ef2847a-9904-40ff-ff70-3f85bb85df5f"
   },
   "outputs": [
    {
     "name": "stdout",
     "output_type": "stream",
     "text": [
      "accuracy_score : 0.89936, roc_auc_score : 0.67379, f1_score : 0.02663, precision_score : 0.30837, recall_score : 0.01391\n"
     ]
    }
   ],
   "source": [
    "from sklearn.ensemble import RandomForestClassifier\n",
    "# 원래 데이터를 사용했을 때의 모델성능\n",
    "imbalanced_process(X1_train, X1_test, y1_train, y1_test,0)"
   ]
  },
  {
   "cell_type": "markdown",
   "id": "afed5f92",
   "metadata": {
    "id": "46a812f4"
   },
   "source": [
    "### Under_Sampling"
   ]
  },
  {
   "cell_type": "markdown",
   "id": "b798921d",
   "metadata": {
    "id": "460b2140"
   },
   "source": [
    "- Ramdom Under-Sampler"
   ]
  },
  {
   "cell_type": "code",
   "execution_count": null,
   "id": "d300a982",
   "metadata": {
    "colab": {
     "base_uri": "https://localhost:8080/"
    },
    "id": "17c21fb7",
    "outputId": "fbd4bea0-4bac-426e-87a6-aa193de2572f"
   },
   "outputs": [
    {
     "name": "stdout",
     "output_type": "stream",
     "text": [
      "accuracy_score : 0.6303, roc_auc_score : 0.68405, f1_score : 0.25748, precision_score : 0.16066, recall_score : 0.64798\n"
     ]
    }
   ],
   "source": [
    "from imblearn.under_sampling import *\n",
    "from sklearn.ensemble import RandomForestClassifier\n",
    "imbalanced_process(X1_train, X1_test, y1_train, y1_test,RandomUnderSampler(random_state=0))"
   ]
  },
  {
   "cell_type": "markdown",
   "id": "f10cf850",
   "metadata": {
    "id": "2a792baf"
   },
   "source": [
    "- NearMiss-1"
   ]
  },
  {
   "cell_type": "code",
   "execution_count": null,
   "id": "0c5a47ae",
   "metadata": {
    "colab": {
     "base_uri": "https://localhost:8080/"
    },
    "id": "08d9bebd",
    "outputId": "6a2a46a1-02d4-4c27-fdce-639fb6b0bd32"
   },
   "outputs": [
    {
     "name": "stdout",
     "output_type": "stream",
     "text": [
      "accuracy_score : 0.23932, roc_auc_score : 0.43446, f1_score : 0.15874, precision_score : 0.08912, recall_score : 0.7255\n"
     ]
    }
   ],
   "source": [
    "from imblearn.under_sampling import *\n",
    "from sklearn.ensemble import RandomForestClassifier\n",
    "imbalanced_process(X1_train, X1_test, y1_train, y1_test, NearMiss(version=1,n_jobs=-1))"
   ]
  },
  {
   "cell_type": "markdown",
   "id": "9db1e4b5",
   "metadata": {
    "id": "3d43103d"
   },
   "source": [
    "- NearMiss-3"
   ]
  },
  {
   "cell_type": "code",
   "execution_count": null,
   "id": "92f18638",
   "metadata": {
    "colab": {
     "base_uri": "https://localhost:8080/"
    },
    "id": "1b34f640",
    "outputId": "1a92b2af-7fe6-4dcf-ec2d-6d2e84a889ae"
   },
   "outputs": [
    {
     "name": "stdout",
     "output_type": "stream",
     "text": [
      "accuracy_score : 0.56677, roc_auc_score : 0.65308, f1_score : 0.23023, precision_score : 0.13967, recall_score : 0.65494\n"
     ]
    }
   ],
   "source": [
    "from imblearn.under_sampling import *\n",
    "from sklearn.ensemble import RandomForestClassifier\n",
    "imbalanced_process(X1_train, X1_test, y1_train, y1_test, NearMiss(version=3,n_jobs=-1))"
   ]
  },
  {
   "cell_type": "markdown",
   "id": "96447d59",
   "metadata": {
    "id": "y2-mMMkvKBT7"
   },
   "source": [
    "- Condensed Nearest Neighbour"
   ]
  },
  {
   "cell_type": "code",
   "execution_count": null,
   "id": "b2b1e2b7",
   "metadata": {},
   "outputs": [],
   "source": [
    "from imblearn.under_sampling import *\n",
    "from sklearn.ensemble import RandomForestClassifier\n",
    "imbalanced_process(X1_train, X1_test, y1_train, y1_test, CondensedNearestNeighbour(n_jobs=-1))"
   ]
  },
  {
   "cell_type": "markdown",
   "id": "c9342ade",
   "metadata": {
    "id": "04ddf403"
   },
   "source": [
    "-  TomekLinks"
   ]
  },
  {
   "cell_type": "code",
   "execution_count": null,
   "id": "bc9b703a",
   "metadata": {
    "colab": {
     "base_uri": "https://localhost:8080/"
    },
    "id": "abc83394",
    "outputId": "d0a2133b-c921-44aa-e7c9-1c438ad90a7c"
   },
   "outputs": [
    {
     "name": "stdout",
     "output_type": "stream",
     "text": [
      "accuracy_score : 0.9009, roc_auc_score : 0.65114, f1_score : 0.01254, precision_score : 0.43836, recall_score : 0.00636\n"
     ]
    }
   ],
   "source": [
    "from imblearn.under_sampling import *\n",
    "from sklearn.ensemble import RandomForestClassifier\n",
    "imbalanced_process(X1_train, X1_test, y1_train, y1_test, TomekLinks(sampling_strategy='all',n_jobs=-1))"
   ]
  },
  {
   "cell_type": "markdown",
   "id": "52455a1a",
   "metadata": {
    "id": "2a7737bd"
   },
   "source": [
    "- Edited Nearest Neighbours"
   ]
  },
  {
   "cell_type": "code",
   "execution_count": null,
   "id": "ffc90832",
   "metadata": {
    "colab": {
     "base_uri": "https://localhost:8080/"
    },
    "id": "53a086ac",
    "outputId": "ba08a0f1-5a4b-40c2-d203-f01e60d8e954"
   },
   "outputs": [
    {
     "name": "stdout",
     "output_type": "stream",
     "text": [
      "accuracy_score : 0.87333, roc_auc_score : 0.67781, f1_score : 0.17516, precision_score : 0.24613, recall_score : 0.13596\n"
     ]
    }
   ],
   "source": [
    "from imblearn.under_sampling import *\n",
    "from sklearn.ensemble import RandomForestClassifier\n",
    "imbalanced_process(X1_train, X1_test, y1_train, y1_test, EditedNearestNeighbours(kind_sel=\"all\", n_neighbors=5,n_jobs=-1))"
   ]
  },
  {
   "cell_type": "markdown",
   "id": "29e97e14",
   "metadata": {
    "id": "3fba814c"
   },
   "source": [
    "- RepeatedEditedNearestNeighbours"
   ]
  },
  {
   "cell_type": "code",
   "execution_count": 10,
   "id": "c5c48ce9",
   "metadata": {
    "colab": {
     "base_uri": "https://localhost:8080/"
    },
    "id": "c31ef457",
    "outputId": "1cfcf62f-2a2c-47cd-9dd9-07875e18fe09"
   },
   "outputs": [
    {
     "name": "stderr",
     "output_type": "stream",
     "text": [
      "/usr/local/lib/python3.7/dist-packages/sklearn/utils/deprecation.py:87: FutureWarning: Function safe_indexing is deprecated; safe_indexing is deprecated in version 0.22 and will be removed in version 0.24.\n",
      "  warnings.warn(msg, category=FutureWarning)\n",
      "/usr/local/lib/python3.7/dist-packages/sklearn/utils/deprecation.py:87: FutureWarning: Function safe_indexing is deprecated; safe_indexing is deprecated in version 0.22 and will be removed in version 0.24.\n",
      "  warnings.warn(msg, category=FutureWarning)\n",
      "/usr/local/lib/python3.7/dist-packages/sklearn/utils/deprecation.py:87: FutureWarning: Function safe_indexing is deprecated; safe_indexing is deprecated in version 0.22 and will be removed in version 0.24.\n",
      "  warnings.warn(msg, category=FutureWarning)\n",
      "/usr/local/lib/python3.7/dist-packages/sklearn/utils/deprecation.py:87: FutureWarning: Function safe_indexing is deprecated; safe_indexing is deprecated in version 0.22 and will be removed in version 0.24.\n",
      "  warnings.warn(msg, category=FutureWarning)\n",
      "/usr/local/lib/python3.7/dist-packages/sklearn/utils/deprecation.py:87: FutureWarning: Function safe_indexing is deprecated; safe_indexing is deprecated in version 0.22 and will be removed in version 0.24.\n",
      "  warnings.warn(msg, category=FutureWarning)\n",
      "/usr/local/lib/python3.7/dist-packages/sklearn/utils/deprecation.py:87: FutureWarning: Function safe_indexing is deprecated; safe_indexing is deprecated in version 0.22 and will be removed in version 0.24.\n",
      "  warnings.warn(msg, category=FutureWarning)\n",
      "/usr/local/lib/python3.7/dist-packages/sklearn/utils/deprecation.py:87: FutureWarning: Function safe_indexing is deprecated; safe_indexing is deprecated in version 0.22 and will be removed in version 0.24.\n",
      "  warnings.warn(msg, category=FutureWarning)\n",
      "/usr/local/lib/python3.7/dist-packages/sklearn/utils/deprecation.py:87: FutureWarning: Function safe_indexing is deprecated; safe_indexing is deprecated in version 0.22 and will be removed in version 0.24.\n",
      "  warnings.warn(msg, category=FutureWarning)\n",
      "/usr/local/lib/python3.7/dist-packages/sklearn/utils/deprecation.py:87: FutureWarning: Function safe_indexing is deprecated; safe_indexing is deprecated in version 0.22 and will be removed in version 0.24.\n",
      "  warnings.warn(msg, category=FutureWarning)\n",
      "/usr/local/lib/python3.7/dist-packages/sklearn/utils/deprecation.py:87: FutureWarning: Function safe_indexing is deprecated; safe_indexing is deprecated in version 0.22 and will be removed in version 0.24.\n",
      "  warnings.warn(msg, category=FutureWarning)\n",
      "/usr/local/lib/python3.7/dist-packages/sklearn/utils/deprecation.py:87: FutureWarning: Function safe_indexing is deprecated; safe_indexing is deprecated in version 0.22 and will be removed in version 0.24.\n",
      "  warnings.warn(msg, category=FutureWarning)\n",
      "/usr/local/lib/python3.7/dist-packages/sklearn/utils/deprecation.py:87: FutureWarning: Function safe_indexing is deprecated; safe_indexing is deprecated in version 0.22 and will be removed in version 0.24.\n",
      "  warnings.warn(msg, category=FutureWarning)\n",
      "/usr/local/lib/python3.7/dist-packages/sklearn/utils/deprecation.py:87: FutureWarning: Function safe_indexing is deprecated; safe_indexing is deprecated in version 0.22 and will be removed in version 0.24.\n",
      "  warnings.warn(msg, category=FutureWarning)\n",
      "/usr/local/lib/python3.7/dist-packages/sklearn/utils/deprecation.py:87: FutureWarning: Function safe_indexing is deprecated; safe_indexing is deprecated in version 0.22 and will be removed in version 0.24.\n",
      "  warnings.warn(msg, category=FutureWarning)\n",
      "/usr/local/lib/python3.7/dist-packages/sklearn/utils/deprecation.py:87: FutureWarning: Function safe_indexing is deprecated; safe_indexing is deprecated in version 0.22 and will be removed in version 0.24.\n",
      "  warnings.warn(msg, category=FutureWarning)\n",
      "/usr/local/lib/python3.7/dist-packages/sklearn/utils/deprecation.py:87: FutureWarning: Function safe_indexing is deprecated; safe_indexing is deprecated in version 0.22 and will be removed in version 0.24.\n",
      "  warnings.warn(msg, category=FutureWarning)\n",
      "/usr/local/lib/python3.7/dist-packages/sklearn/utils/deprecation.py:87: FutureWarning: Function safe_indexing is deprecated; safe_indexing is deprecated in version 0.22 and will be removed in version 0.24.\n",
      "  warnings.warn(msg, category=FutureWarning)\n",
      "/usr/local/lib/python3.7/dist-packages/sklearn/utils/deprecation.py:87: FutureWarning: Function safe_indexing is deprecated; safe_indexing is deprecated in version 0.22 and will be removed in version 0.24.\n",
      "  warnings.warn(msg, category=FutureWarning)\n",
      "/usr/local/lib/python3.7/dist-packages/sklearn/utils/deprecation.py:87: FutureWarning: Function safe_indexing is deprecated; safe_indexing is deprecated in version 0.22 and will be removed in version 0.24.\n",
      "  warnings.warn(msg, category=FutureWarning)\n",
      "/usr/local/lib/python3.7/dist-packages/sklearn/utils/deprecation.py:87: FutureWarning: Function safe_indexing is deprecated; safe_indexing is deprecated in version 0.22 and will be removed in version 0.24.\n",
      "  warnings.warn(msg, category=FutureWarning)\n",
      "/usr/local/lib/python3.7/dist-packages/sklearn/utils/deprecation.py:87: FutureWarning: Function safe_indexing is deprecated; safe_indexing is deprecated in version 0.22 and will be removed in version 0.24.\n",
      "  warnings.warn(msg, category=FutureWarning)\n",
      "/usr/local/lib/python3.7/dist-packages/sklearn/utils/deprecation.py:87: FutureWarning: Function safe_indexing is deprecated; safe_indexing is deprecated in version 0.22 and will be removed in version 0.24.\n",
      "  warnings.warn(msg, category=FutureWarning)\n"
     ]
    },
    {
     "name": "stdout",
     "output_type": "stream",
     "text": [
      "accuracy_score : 0.8679, roc_auc_score : 0.67461, f1_score : 0.18332, precision_score : 0.23599, recall_score : 0.14987\n"
     ]
    }
   ],
   "source": [
    "from imblearn.under_sampling import *\n",
    "from sklearn.ensemble import RandomForestClassifier\n",
    "imbalanced_process(X1_train, X1_test, y1_train, y1_test, RepeatedEditedNearestNeighbours(n_jobs=-1))"
   ]
  },
  {
   "cell_type": "markdown",
   "id": "dc38929b",
   "metadata": {
    "id": "01c4c478"
   },
   "source": [
    "### Over_Sampling"
   ]
  },
  {
   "cell_type": "markdown",
   "id": "4b628322",
   "metadata": {
    "id": "e5dfe68a"
   },
   "source": [
    "- RandomOverSampler"
   ]
  },
  {
   "cell_type": "code",
   "execution_count": null,
   "id": "91c551e1",
   "metadata": {
    "colab": {
     "base_uri": "https://localhost:8080/"
    },
    "id": "cc5e9908",
    "outputId": "b3f6e5f1-1d58-4e19-82c8-6faa6f4f12ec"
   },
   "outputs": [
    {
     "name": "stdout",
     "output_type": "stream",
     "text": [
      "accuracy_score : 0.89345, roc_auc_score : 0.67428, f1_score : 0.07066, precision_score : 0.2575, recall_score : 0.04095\n"
     ]
    }
   ],
   "source": [
    "from imblearn.over_sampling import *\n",
    "from sklearn.ensemble import RandomForestClassifier\n",
    "imbalanced_process(X1_train, X1_test, y1_train, y1_test, RandomOverSampler(random_state=0))"
   ]
  },
  {
   "cell_type": "markdown",
   "id": "b926d53e",
   "metadata": {
    "id": "a73c7382"
   },
   "source": [
    "- SMOTE"
   ]
  },
  {
   "cell_type": "code",
   "execution_count": null,
   "id": "fd7d8c0d",
   "metadata": {
    "colab": {
     "base_uri": "https://localhost:8080/"
    },
    "id": "e9d301a3",
    "outputId": "6ac13faf-4e38-41f2-c762-33a8682fd473"
   },
   "outputs": [
    {
     "name": "stdout",
     "output_type": "stream",
     "text": [
      "accuracy_score : 0.86507, roc_auc_score : 0.6619, f1_score : 0.16885, precision_score : 0.21612, recall_score : 0.13854\n"
     ]
    }
   ],
   "source": [
    "from imblearn.over_sampling import *\n",
    "from sklearn.ensemble import RandomForestClassifier\n",
    "imbalanced_process(X1_train, X1_test, y1_train, y1_test, SMOTE(random_state=0,k_neighbors=5,n_jobs=-1))"
   ]
  },
  {
   "cell_type": "markdown",
   "id": "3ae3addf",
   "metadata": {
    "id": "ef74cad3"
   },
   "source": [
    "- BorderlineSMOTE-1"
   ]
  },
  {
   "cell_type": "code",
   "execution_count": null,
   "id": "a26cff63",
   "metadata": {
    "colab": {
     "base_uri": "https://localhost:8080/"
    },
    "id": "e814618d",
    "outputId": "016511af-89ff-4d1c-9f11-c8c5650bb845"
   },
   "outputs": [
    {
     "name": "stdout",
     "output_type": "stream",
     "text": [
      "accuracy_score : 0.86979, roc_auc_score : 0.66468, f1_score : 0.16851, precision_score : 0.22878, recall_score : 0.13337\n"
     ]
    }
   ],
   "source": [
    "from imblearn.over_sampling import *\n",
    "from sklearn.ensemble import RandomForestClassifier\n",
    "imbalanced_process(X1_train, X1_test, y1_train, y1_test, BorderlineSMOTE(kind = 'borderline-1',random_state=0,n_jobs=-1))"
   ]
  },
  {
   "cell_type": "markdown",
   "id": "b1c37d7e",
   "metadata": {
    "id": "2debe922"
   },
   "source": [
    "- BorderlineSMOTE-2"
   ]
  },
  {
   "cell_type": "code",
   "execution_count": null,
   "id": "7a3c3aa4",
   "metadata": {
    "colab": {
     "base_uri": "https://localhost:8080/"
    },
    "id": "4aa6e522",
    "outputId": "e00c46c7-1027-41bd-c210-54ff0d8e76f1"
   },
   "outputs": [
    {
     "name": "stdout",
     "output_type": "stream",
     "text": [
      "accuracy_score : 0.86562, roc_auc_score : 0.65901, f1_score : 0.16085, precision_score : 0.21041, recall_score : 0.13019\n"
     ]
    }
   ],
   "source": [
    "from imblearn.over_sampling import *\n",
    "from sklearn.ensemble import RandomForestClassifier\n",
    "imbalanced_process(X1_train, X1_test, y1_train, y1_test, BorderlineSMOTE(kind = 'borderline-2',random_state=0,n_jobs=-1))"
   ]
  },
  {
   "cell_type": "markdown",
   "id": "f0908a80",
   "metadata": {
    "id": "1c1818d1"
   },
   "source": [
    "### Combine"
   ]
  },
  {
   "cell_type": "markdown",
   "id": "407193d6",
   "metadata": {
    "id": "6589e3c7"
   },
   "source": [
    "- SMOTETomek"
   ]
  },
  {
   "cell_type": "code",
   "execution_count": null,
   "id": "a6a7891f",
   "metadata": {
    "colab": {
     "base_uri": "https://localhost:8080/"
    },
    "id": "25cbc5b3",
    "outputId": "fd6c9877-8e6a-4a23-a644-b079ae0ef489"
   },
   "outputs": [
    {
     "name": "stdout",
     "output_type": "stream",
     "text": [
      "accuracy_score : 0.86385, roc_auc_score : 0.66451, f1_score : 0.17355, precision_score : 0.21721, recall_score : 0.1445\n"
     ]
    }
   ],
   "source": [
    "from imblearn.combine import *\n",
    "from sklearn.ensemble import RandomForestClassifier\n",
    "imbalanced_process(X1_train, X1_test, y1_train, y1_test, SMOTETomek(random_state=0, sampling_strategy='all',n_jobs=-1))"
   ]
  },
  {
   "cell_type": "markdown",
   "id": "f4d6169d",
   "metadata": {
    "id": "1a37fbce"
   },
   "source": [
    "- SMOTE+ENN"
   ]
  },
  {
   "cell_type": "code",
   "execution_count": null,
   "id": "26b5d0b0",
   "metadata": {
    "colab": {
     "base_uri": "https://localhost:8080/"
    },
    "id": "0c300ec1",
    "outputId": "0a34ef7d-4ef2-42b3-bc80-bce8504f0618"
   },
   "outputs": [
    {
     "name": "stdout",
     "output_type": "stream",
     "text": [
      "accuracy_score : 0.82997, roc_auc_score : 0.67192, f1_score : 0.22898, precision_score : 0.20763, recall_score : 0.25522\n"
     ]
    }
   ],
   "source": [
    "from imblearn.combine import *\n",
    "from sklearn.ensemble import RandomForestClassifier\n",
    "imbalanced_process(X1_train, X1_test, y1_train, y1_test, SMOTEENN(random_state=0,n_jobs=-1))"
   ]
  },
  {
   "cell_type": "markdown",
   "id": "ba458c6d",
   "metadata": {
    "id": "0fd2319a"
   },
   "source": [
    "### Ensemble"
   ]
  },
  {
   "cell_type": "markdown",
   "id": "1e415fea",
   "metadata": {
    "id": "e39fe34e"
   },
   "source": [
    "- BalanceCascade"
   ]
  },
  {
   "cell_type": "code",
   "execution_count": 11,
   "id": "b6f10fc3",
   "metadata": {
    "colab": {
     "base_uri": "https://localhost:8080/"
    },
    "id": "p5P9ItQxHxMp",
    "outputId": "f8c296d8-1284-4e04-8899-774e616edc1c"
   },
   "outputs": [
    {
     "name": "stdout",
     "output_type": "stream",
     "text": [
      "accuracy_score : 0.63124, roc_auc_score : 0.69057, f1_score : 0.26096, precision_score : 0.16274, recall_score : 0.65812\n"
     ]
    }
   ],
   "source": [
    "from imblearn.ensemble import BalancedRandomForestClassifier\n",
    "brf = BalancedRandomForestClassifier(n_estimators=100, random_state=0)\n",
    "brf.fit(X1_train, y1_train) \n",
    "y1_pred = brf.predict(X1_test)\n",
    "y2_pred = brf.predict_proba(X1_test)[:,1]\n",
    "print(f'accuracy_score : {round(accuracy_score(y1_test, y1_pred),5)}, roc_auc_score : {round(roc_auc_score(y1_test, y2_pred),5)}, f1_score : {round(f1_score(y1_test, y1_pred),5)}, precision_score : {round(precision_score(y1_test, y1_pred),5)}, recall_score : {round(recall_score(y1_test, y1_pred),5)}')"
   ]
  },
  {
   "cell_type": "markdown",
   "id": "746f4820",
   "metadata": {
    "id": "c4b6aa62"
   },
   "source": [
    "- EasyEnsemble"
   ]
  },
  {
   "cell_type": "code",
   "execution_count": 11,
   "id": "7c5421d7",
   "metadata": {
    "id": "f0d8eeaa"
   },
   "outputs": [
    {
     "name": "stdout",
     "output_type": "stream",
     "text": [
      "accuracy_score : 0.62056, roc_auc_score : 0.69608, f1_score : 0.26023, precision_score : 0.1612, recall_score : 0.67462\n"
     ]
    }
   ],
   "source": [
    "from imblearn.ensemble import *\n",
    "eec=EasyEnsembleClassifier(random_state=0)\n",
    "eec.fit(X1_train, y1_train) \n",
    "y1_pred = eec.predict(X1_test)\n",
    "y2_pred = eec.predict_proba(X1_test)[:,1]\n",
    "print(f'accuracy_score : {round(accuracy_score(y1_test, y1_pred),5)}, roc_auc_score : {round(roc_auc_score(y1_test, y2_pred),5)}, f1_score : {round(f1_score(y1_test, y1_pred),5)}, precision_score : {round(precision_score(y1_test, y1_pred),5)}, recall_score : {round(recall_score(y1_test, y1_pred),5)}')"
   ]
  },
  {
   "cell_type": "markdown",
   "id": "44c26c30",
   "metadata": {
    "id": "b7d2de52"
   },
   "source": [
    "# 99:1 imbalanced"
   ]
  },
  {
   "cell_type": "code",
   "execution_count": 15,
   "id": "9dc14443",
   "metadata": {
    "colab": {
     "base_uri": "https://localhost:8080/"
    },
    "id": "9786fdf2",
    "outputId": "76beb4ad-b24b-4080-eadc-648a7e57aa5a"
   },
   "outputs": [
    {
     "data": {
      "text/plain": [
       "((138699, 29), (46233, 29))"
      ]
     },
     "execution_count": 15,
     "metadata": {},
     "output_type": "execute_result"
    }
   ],
   "source": [
    "# 학습/평가 데이터 분할\n",
    "X01_train, X01_test, y01_train, y01_test = train_test_split(data_x01, data_y01, random_state=0)\n",
    "X01_train.shape, X01_test.shape"
   ]
  },
  {
   "cell_type": "markdown",
   "id": "35b706f9",
   "metadata": {
    "id": "74fd90ee"
   },
   "source": [
    "### original"
   ]
  },
  {
   "cell_type": "code",
   "execution_count": 17,
   "id": "52e41f36",
   "metadata": {
    "colab": {
     "base_uri": "https://localhost:8080/"
    },
    "id": "ff7f91fa",
    "outputId": "d1cfb96c-fa38-4644-a450-160fc399dfdd"
   },
   "outputs": [
    {
     "name": "stdout",
     "output_type": "stream",
     "text": [
      "accuracy_score : 0.98942, roc_auc_score : 0.57057, f1_score : 0.0, precision_score : 0.0, recall_score : 0.0\n"
     ]
    }
   ],
   "source": [
    "from sklearn.ensemble import RandomForestClassifier\n",
    "# 원래 데이터를 사용했을 때의 모델성능\n",
    "imbalanced_process(X01_train, X01_test, y01_train, y01_test,0)"
   ]
  },
  {
   "cell_type": "markdown",
   "id": "8086cfba",
   "metadata": {
    "id": "05d3e1b9"
   },
   "source": [
    "### Under_Sampling"
   ]
  },
  {
   "cell_type": "markdown",
   "id": "3eeb5b71",
   "metadata": {
    "id": "99ba6fa7"
   },
   "source": [
    "- Ramdom Under-Sampler"
   ]
  },
  {
   "cell_type": "code",
   "execution_count": null,
   "id": "d1503c5a",
   "metadata": {
    "colab": {
     "base_uri": "https://localhost:8080/"
    },
    "id": "acc8c5e2",
    "outputId": "16c1c724-11d0-4da7-d354-3d7fb0c49513"
   },
   "outputs": [
    {
     "name": "stdout",
     "output_type": "stream",
     "text": [
      "accuracy_score : 0.60902, roc_auc_score : 0.66592, f1_score : 0.03378, precision_score : 0.01734, recall_score : 0.64754\n"
     ]
    }
   ],
   "source": [
    "from imblearn.under_sampling import *\n",
    "from sklearn.ensemble import RandomForestClassifier\n",
    "imbalanced_process(X01_train, X01_test, y01_train, y01_test, RandomUnderSampler(random_state=0))"
   ]
  },
  {
   "cell_type": "markdown",
   "id": "13fd326c",
   "metadata": {
    "id": "0be17b52"
   },
   "source": [
    "- NearMiss-1"
   ]
  },
  {
   "cell_type": "code",
   "execution_count": null,
   "id": "ffa314cb",
   "metadata": {
    "colab": {
     "base_uri": "https://localhost:8080/"
    },
    "id": "5eec4454",
    "outputId": "f5070d32-7193-4bf2-b5f1-fa2b0e42cec9"
   },
   "outputs": [
    {
     "name": "stdout",
     "output_type": "stream",
     "text": [
      "accuracy_score : 0.07568, roc_auc_score : 0.47198, f1_score : 0.02045, precision_score : 0.01034, recall_score : 0.91393\n"
     ]
    }
   ],
   "source": [
    "from imblearn.under_sampling import *\n",
    "from sklearn.ensemble import RandomForestClassifier\n",
    "imbalanced_process(X01_train, X01_test, y01_train, y01_test, NearMiss(version=1,n_jobs=-1))"
   ]
  },
  {
   "cell_type": "markdown",
   "id": "2849d211",
   "metadata": {
    "id": "4e75da16"
   },
   "source": [
    "- NearMiss-2"
   ]
  },
  {
   "cell_type": "code",
   "execution_count": null,
   "id": "92ff261b",
   "metadata": {
    "colab": {
     "base_uri": "https://localhost:8080/"
    },
    "id": "34c8195d",
    "outputId": "9f4e950e-fdd8-4890-8d34-fb7525eca250"
   },
   "outputs": [
    {
     "name": "stdout",
     "output_type": "stream",
     "text": [
      "accuracy_score : 0.02293, roc_auc_score : 0.57996, f1_score : 0.02102, precision_score : 0.01062, recall_score : 0.99385\n"
     ]
    }
   ],
   "source": [
    "from imblearn.under_sampling import *\n",
    "from sklearn.ensemble import RandomForestClassifier\n",
    "imbalanced_process(X01_train, X01_test, y01_train, y01_test, NearMiss(version=2,n_jobs=-1))"
   ]
  },
  {
   "cell_type": "markdown",
   "id": "f8d7db81",
   "metadata": {
    "id": "dcc6f30d"
   },
   "source": [
    "- NearMiss-3"
   ]
  },
  {
   "cell_type": "code",
   "execution_count": null,
   "id": "49521583",
   "metadata": {
    "colab": {
     "base_uri": "https://localhost:8080/"
    },
    "id": "73fff796",
    "outputId": "40f011fc-be26-42df-c37e-0c9817ebe485"
   },
   "outputs": [
    {
     "name": "stdout",
     "output_type": "stream",
     "text": [
      "accuracy_score : 0.47406, roc_auc_score : 0.61636, f1_score : 0.02689, precision_score : 0.01371, recall_score : 0.68852\n"
     ]
    }
   ],
   "source": [
    "from imblearn.under_sampling import *\n",
    "from sklearn.ensemble import RandomForestClassifier\n",
    "imbalanced_process(X01_train, X01_test, y01_train, y01_test, NearMiss(version=3,n_jobs=-1))"
   ]
  },
  {
   "cell_type": "markdown",
   "id": "67bae545",
   "metadata": {
    "id": "7beee0ee"
   },
   "source": [
    "- Condensed Nearest Neighbour"
   ]
  },
  {
   "cell_type": "code",
   "execution_count": null,
   "id": "07e3c120",
   "metadata": {
    "id": "06d2b8fa"
   },
   "outputs": [],
   "source": [
    "from imblearn.under_sampling import *\n",
    "from sklearn.ensemble import RandomForestClassifier\n",
    "imbalanced_process(X01_train, X01_test, y01_train, y01_test, CondensedNearestNeighbour(random_state=0,n_jobs=-1))"
   ]
  },
  {
   "cell_type": "markdown",
   "id": "81d81936",
   "metadata": {
    "id": "70c0e5f3"
   },
   "source": [
    "- TomekLinks"
   ]
  },
  {
   "cell_type": "code",
   "execution_count": null,
   "id": "c4655ae1",
   "metadata": {
    "colab": {
     "base_uri": "https://localhost:8080/"
    },
    "id": "7f2fe23c",
    "outputId": "ffd78bd1-d9a7-48c2-8576-69bc494141a2"
   },
   "outputs": [
    {
     "name": "stdout",
     "output_type": "stream",
     "text": [
      "accuracy_score : 0.98944, roc_auc_score : 0.54706, f1_score : 0.0, precision_score : 0.0, recall_score : 0.0\n"
     ]
    },
    {
     "name": "stderr",
     "output_type": "stream",
     "text": [
      "/usr/local/lib/python3.7/dist-packages/sklearn/metrics/_classification.py:1308: UndefinedMetricWarning: Precision is ill-defined and being set to 0.0 due to no predicted samples. Use `zero_division` parameter to control this behavior.\n",
      "  _warn_prf(average, modifier, msg_start, len(result))\n",
      "/usr/local/lib/python3.7/dist-packages/sklearn/metrics/_classification.py:1308: UndefinedMetricWarning: Precision is ill-defined and being set to 0.0 due to no predicted samples. Use `zero_division` parameter to control this behavior.\n",
      "  _warn_prf(average, modifier, msg_start, len(result))\n"
     ]
    }
   ],
   "source": [
    "from imblearn.under_sampling import *\n",
    "from sklearn.ensemble import RandomForestClassifier\n",
    "imbalanced_process(X01_train, X0p1_test, y01_train, y01_test, TomekLinks(sampling_strategy='all',n_jobs=-1))"
   ]
  },
  {
   "cell_type": "markdown",
   "id": "de171c4b",
   "metadata": {
    "id": "f01b121e"
   },
   "source": [
    "- Edited Nearest Neighbours"
   ]
  },
  {
   "cell_type": "code",
   "execution_count": null,
   "id": "ab8e4352",
   "metadata": {
    "colab": {
     "base_uri": "https://localhost:8080/"
    },
    "id": "3f4051d5",
    "outputId": "6765fead-a1dd-4d2c-e73b-e374e375c46d"
   },
   "outputs": [
    {
     "name": "stdout",
     "output_type": "stream",
     "text": [
      "accuracy_score : 0.98942, roc_auc_score : 0.56003, f1_score : 0.0, precision_score : 0.0, recall_score : 0.0\n"
     ]
    }
   ],
   "source": [
    "from imblearn.under_sampling import *\n",
    "from sklearn.ensemble import RandomForestClassifier\n",
    "imbalanced_process(X01_train, X01_test, y01_train, y01_test, EditedNearestNeighbours(kind_sel=\"all\", n_neighbors=5,n_jobs=-1))"
   ]
  },
  {
   "cell_type": "markdown",
   "id": "8b09853f",
   "metadata": {
    "id": "c5e07be8"
   },
   "source": [
    "- RepeatedEditedNearestNeighbours"
   ]
  },
  {
   "cell_type": "code",
   "execution_count": null,
   "id": "cfef489a",
   "metadata": {
    "colab": {
     "base_uri": "https://localhost:8080/"
    },
    "id": "d84c88d0",
    "outputId": "b9d59671-d321-4dda-9fa5-da4c8450bed2"
   },
   "outputs": [
    {
     "name": "stdout",
     "output_type": "stream",
     "text": [
      "accuracy_score : 0.98938, roc_auc_score : 0.57241, f1_score : 0.0, precision_score : 0.0, recall_score : 0.0\n"
     ]
    }
   ],
   "source": [
    "from imblearn.under_sampling import *\n",
    "from sklearn.ensemble import RandomForestClassifier\n",
    "imbalanced_process(X01_train, X01_test, y01_train, y01_test, RepeatedEditedNearestNeighbours(n_jobs=-1))"
   ]
  },
  {
   "cell_type": "markdown",
   "id": "309191c9",
   "metadata": {
    "id": "e46bc1e8"
   },
   "source": [
    "### Over_Sampling"
   ]
  },
  {
   "cell_type": "markdown",
   "id": "30b90cea",
   "metadata": {
    "id": "403b0fba"
   },
   "source": [
    "- RandomOverSampler"
   ]
  },
  {
   "cell_type": "code",
   "execution_count": null,
   "id": "3f3b5fc6",
   "metadata": {
    "colab": {
     "base_uri": "https://localhost:8080/"
    },
    "id": "068cc086",
    "outputId": "c923bb61-29c4-4bd7-acf7-a9cd14f8952f"
   },
   "outputs": [
    {
     "name": "stdout",
     "output_type": "stream",
     "text": [
      "accuracy_score : 0.98925, roc_auc_score : 0.59561, f1_score : 0.0, precision_score : 0.0, recall_score : 0.0\n"
     ]
    }
   ],
   "source": [
    "from imblearn.over_sampling import *\n",
    "from sklearn.ensemble import RandomForestClassifier\n",
    "imbalanced_process(X01_train, X01_test, y01_train, y01_test, RandomOverSampler(random_state=0))"
   ]
  },
  {
   "cell_type": "markdown",
   "id": "ba0363e0",
   "metadata": {
    "id": "3622e93f"
   },
   "source": [
    "- SMOTE"
   ]
  },
  {
   "cell_type": "code",
   "execution_count": null,
   "id": "1d498d9f",
   "metadata": {
    "colab": {
     "base_uri": "https://localhost:8080/"
    },
    "id": "322fa566",
    "outputId": "f83e5d17-7ac6-4320-b532-02bf2448b84c"
   },
   "outputs": [
    {
     "name": "stdout",
     "output_type": "stream",
     "text": [
      "accuracy_score : 0.98521, roc_auc_score : 0.6054, f1_score : 0.01724, precision_score : 0.02885, recall_score : 0.0123\n"
     ]
    }
   ],
   "source": [
    "from imblearn.over_sampling import *\n",
    "from sklearn.ensemble import RandomForestClassifier\n",
    "imbalanced_process(X01_train, X01_test, y01_train, y01_test, SMOTE(random_state=0,k_neighbors=5,n_jobs=-1))"
   ]
  },
  {
   "cell_type": "markdown",
   "id": "5382712a",
   "metadata": {
    "id": "3762e94b"
   },
   "source": [
    "- BorderlineSMOTE-1"
   ]
  },
  {
   "cell_type": "code",
   "execution_count": null,
   "id": "e9dc9f4d",
   "metadata": {
    "colab": {
     "base_uri": "https://localhost:8080/"
    },
    "id": "25e0037a",
    "outputId": "ab80e50c-a6a6-4630-fc27-48a4d2097bb3"
   },
   "outputs": [
    {
     "name": "stdout",
     "output_type": "stream",
     "text": [
      "accuracy_score : 0.98914, roc_auc_score : 0.59913, f1_score : 0.00791, precision_score : 0.11111, recall_score : 0.0041\n"
     ]
    }
   ],
   "source": [
    "from imblearn.over_sampling import *\n",
    "from sklearn.ensemble import RandomForestClassifier\n",
    "imbalanced_process(X01_train, X01_test, y01_train, y01_test, BorderlineSMOTE(random_state=0,kind = 'borderline-1',n_jobs=-1))"
   ]
  },
  {
   "cell_type": "markdown",
   "id": "920444d0",
   "metadata": {
    "id": "6c150a84"
   },
   "source": [
    "- BorderlineSMOTE-2"
   ]
  },
  {
   "cell_type": "code",
   "execution_count": null,
   "id": "1a3894f9",
   "metadata": {
    "colab": {
     "base_uri": "https://localhost:8080/"
    },
    "id": "bec15d69",
    "outputId": "3c6ed1e5-d280-4816-f0ef-3bf063c6767d"
   },
   "outputs": [
    {
     "name": "stdout",
     "output_type": "stream",
     "text": [
      "accuracy_score : 0.98899, roc_auc_score : 0.6028, f1_score : 0.0078, precision_score : 0.08, recall_score : 0.0041\n"
     ]
    }
   ],
   "source": [
    "from imblearn.over_sampling import *\n",
    "from sklearn.ensemble import RandomForestClassifier\n",
    "imbalanced_process(X01_train, X01_test, y01_train, y01_test, BorderlineSMOTE(random_state=0,kind = 'borderline-2',n_jobs=-1))"
   ]
  },
  {
   "cell_type": "markdown",
   "id": "01f1f335",
   "metadata": {
    "id": "b95f228c"
   },
   "source": [
    "### Combine"
   ]
  },
  {
   "cell_type": "markdown",
   "id": "d019704d",
   "metadata": {
    "id": "2469c212"
   },
   "source": [
    "- SMOTETomek"
   ]
  },
  {
   "cell_type": "code",
   "execution_count": null,
   "id": "f2e4b647",
   "metadata": {
    "colab": {
     "base_uri": "https://localhost:8080/"
    },
    "id": "b85f2888",
    "outputId": "892f72f3-3f5e-426c-95ae-e83c36715be8"
   },
   "outputs": [
    {
     "name": "stdout",
     "output_type": "stream",
     "text": [
      "accuracy_score : 0.98508, roc_auc_score : 0.6096, f1_score : 0.01429, precision_score : 0.02358, recall_score : 0.01025\n"
     ]
    }
   ],
   "source": [
    "from imblearn.combine import *\n",
    "from sklearn.ensemble import RandomForestClassifier\n",
    "imbalanced_process(X01_train, X01_test, y01_train, y01_test, SMOTETomek(random_state=0, sampling_strategy='all',n_jobs=-1))"
   ]
  },
  {
   "cell_type": "markdown",
   "id": "3b59803b",
   "metadata": {
    "id": "bfe4eb27"
   },
   "source": [
    "- SMOTE+ENN"
   ]
  },
  {
   "cell_type": "code",
   "execution_count": null,
   "id": "638ad717",
   "metadata": {
    "colab": {
     "base_uri": "https://localhost:8080/"
    },
    "id": "c11f49ed",
    "outputId": "f0a7bab2-a27c-4464-8576-42b11f421f00"
   },
   "outputs": [
    {
     "name": "stdout",
     "output_type": "stream",
     "text": [
      "accuracy_score : 0.98352, roc_auc_score : 0.61494, f1_score : 0.0155, precision_score : 0.02098, recall_score : 0.0123\n"
     ]
    }
   ],
   "source": [
    "from imblearn.combine import *\n",
    "from sklearn.ensemble import RandomForestClassifier\n",
    "imbalanced_process(X01_train, X01_test, y01_train, y01_test, SMOTEENN(random_state=0,n_jobs=-1))"
   ]
  },
  {
   "cell_type": "markdown",
   "id": "09cc8341",
   "metadata": {
    "id": "8afcb034"
   },
   "source": [
    "### Ensemble"
   ]
  },
  {
   "cell_type": "markdown",
   "id": "a550cfef",
   "metadata": {
    "id": "efaffbf6"
   },
   "source": [
    "- BalanceCascade"
   ]
  },
  {
   "cell_type": "code",
   "execution_count": null,
   "id": "21f314e3",
   "metadata": {
    "colab": {
     "base_uri": "https://localhost:8080/"
    },
    "id": "aSUw1boioXDn",
    "outputId": "39673587-9fcf-47a3-d781-6367b20f6b9e"
   },
   "outputs": [
    {
     "name": "stdout",
     "output_type": "stream",
     "text": [
      "accuracy_score : 0.61887, roc_auc_score : 0.66543, f1_score : 0.0341, precision_score : 0.01752, recall_score : 0.6373\n"
     ]
    }
   ],
   "source": [
    "from imblearn.ensemble import BalancedRandomForestClassifier\n",
    "brf = BalancedRandomForestClassifier(n_estimators=100, random_state=0)\n",
    "brf.fit(X01_train, y01_train) \n",
    "y1_pred = brf.predict(X01_test)\n",
    "y2_pred = brf.predict_proba(X01_test)[:,1]\n",
    "print(f'accuracy_score : {round(accuracy_score(y01_test, y1_pred),5)}, roc_auc_score : {round(roc_auc_score(y01_test, y2_pred),5)}, f1_score : {round(f1_score(y01_test, y1_pred),5)}, precision_score : {round(precision_score(y01_test, y1_pred),5)}, recall_score : {round(recall_score(y01_test, y1_pred),5)}')"
   ]
  },
  {
   "cell_type": "markdown",
   "id": "9734294c",
   "metadata": {
    "id": "395de9e8"
   },
   "source": [
    "- EasyEnsemble"
   ]
  },
  {
   "cell_type": "code",
   "execution_count": 16,
   "id": "19d58a47",
   "metadata": {
    "colab": {
     "base_uri": "https://localhost:8080/"
    },
    "id": "TbvZmitjD2lw",
    "outputId": "40f4f6e7-13fd-4dbc-f7c7-6acc16bf0201"
   },
   "outputs": [
    {
     "name": "stdout",
     "output_type": "stream",
     "text": [
      "accuracy_score : 0.60418, roc_auc_score : 0.66624, f1_score : 0.03348, precision_score : 0.01719, recall_score : 0.64959\n"
     ]
    }
   ],
   "source": [
    "from imblearn.ensemble import *\n",
    "from sklearn.ensemble import RandomForestClassifier\n",
    "eec=EasyEnsembleClassifier(random_state=0)\n",
    "eec.fit(X01_train, y01_train) \n",
    "y1_pred = eec.predict(X01_test)\n",
    "y2_pred = eec.predict_proba(X01_test)[:,1]\n",
    "print(f'accuracy_score : {round(accuracy_score(y01_test, y1_pred),5)}, roc_auc_score : {round(roc_auc_score(y01_test, y2_pred),5)}, f1_score : {round(f1_score(y01_test, y1_pred),5)}, precision_score : {round(precision_score(y01_test, y1_pred),5)}, recall_score : {round(recall_score(y01_test, y1_pred),5)}')"
   ]
  }
 ],
 "metadata": {
  "accelerator": "GPU",
  "colab": {
   "collapsed_sections": [
    "4737f1db",
    "b0c87164",
    "01c4c478",
    "1c1818d1",
    "74fd90ee",
    "23c637b4",
    "4697f57a",
    "ca6a77b7",
    "b1cacc2f",
    "90939074",
    "5475312e"
   ],
   "machine_shape": "hm",
   "name": "제발.ipynb",
   "provenance": []
  },
  "kernelspec": {
   "display_name": "Python 3 (ipykernel)",
   "language": "python",
   "name": "python3"
  },
  "language_info": {
   "codemirror_mode": {
    "name": "ipython",
    "version": 3
   },
   "file_extension": ".py",
   "mimetype": "text/x-python",
   "name": "python",
   "nbconvert_exporter": "python",
   "pygments_lexer": "ipython3",
   "version": "3.10.11"
  }
 },
 "nbformat": 4,
 "nbformat_minor": 5
}
